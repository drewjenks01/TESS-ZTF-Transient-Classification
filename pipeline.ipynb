{
 "cells": [
  {
   "cell_type": "code",
   "execution_count": null,
   "metadata": {},
   "outputs": [],
   "source": [
    "\"\"\"\n",
    "TESS/ZTF Transient Classification Project\n",
    "\n",
    "This notebook can be used to run the entire ML pipeline in one place.\n",
    "\"\"\""
   ]
  },
  {
   "cell_type": "code",
   "execution_count": null,
   "metadata": {},
   "outputs": [],
   "source": [
    "\"\"\"\n",
    "Step 1: Preprocessing\n",
    "\n",
    "Reads in raw light curve data and classification info and processes the the data.\n",
    "\n",
    "Processing steps include:\n",
    "    - numeric encodings of class\n",
    "    - use of TESS/ZTF filter IDs\n",
    "    - timestep creation for each filter ID occurance\n",
    "    - cut light curves between specific time range\n",
    "    - skip light curves with no data\n",
    "    - data augmentation so all light curves have same # of timesteps\n",
    "\"\"\"\n",
    "from pre_process import read_raw_data, prepare_NN_data,plot_specific\n",
    "\n",
    "# define file paths\n",
    "lc_path='/Users/drewj/Documents//Urops/Muthukrishna/data/processed_curves/'\n",
    "transient_path='/Users/drewj/Documents/Urops/Muthukrishna/data/all_transients.csv'\n",
    "\n",
    "# get DataFrames from raw file data\n",
    "light_curves, original_curves, all_transients=read_raw_data(lc_path,transient_path)\n",
    "\n",
    "# plot specific light curve\n",
    "plot_specific(original_curves,'2018fzi')\n",
    "\n",
    "# get data prepared for neural network model\n",
    "prepared_data=prepare_NN_data(light_curves)\n"
   ]
  },
  {
   "cell_type": "code",
   "execution_count": null,
   "metadata": {},
   "outputs": [],
   "source": [
    "\"\"\"\n",
    "Step 2: Recurrent Variational Autoencoder\n",
    "*Unsupervised*\n",
    "    \n",
    "Builds a variational autoencoder that takes in time-series\n",
    "light curve data and produces lower-dimensional representations to be used\n",
    "for classificiation.\n",
    "\n",
    "Trains and tests the model, extracts the encoder.\n",
    "\n",
    "Plots a 2D t-SNE representation of light curves in their latent space.\n",
    "\"\"\"\n",
    "from NN_model import RVAE\n",
    "\n",
    "# make RVAE object\n",
    "rvae= RVAE(prepared_data)\n",
    "\n",
    "# split prepped data into training and testing sets\n",
    "x_train, x_test, y_train, y_test = rvae.split_prep_data()\n",
    "\n",
    "# build model and encoder \n",
    "model,encoder=rvae.build_connected_model()\n",
    "\n",
    "# get trained model\n",
    "trained_model=rvae.train_model(model,x_train, x_test, y_train, y_test)\n",
    "\n",
    "# test the trained model\n",
    "rvae.test_model(trained_model,x_test,y_test)\n",
    "\n",
    "# t-SNE plot\n",
    "rvae.t_SNE_plot(light_curves,encoder)"
   ]
  },
  {
   "cell_type": "code",
   "execution_count": null,
   "metadata": {},
   "outputs": [],
   "source": [
    "\"\"\"\n",
    "Step 3: Balanced Random Forest Classifier\n",
    "*Supervised*\n",
    "\n",
    "Creates a Balanced Random Forest Classifier that takes in encoded light curves and classifies them.\n",
    "\n",
    "Uses the trained encoder from the RVAE model to encode light curves.\n",
    "\n",
    "Trains the classifier on labeled data, tests on both labeled and unlabeled.\n",
    "\"\"\"\n",
    "from classify import RandomForest\n",
    "\n",
    "rf= RandomForest(light_curves,prepared_data,encoder)\n",
    "\n",
    "# split data set for supervised training\n",
    "x_train, x_test, y_train, y_test, x_unclassified= rf.create_test_train()\n",
    "\n",
    "# encode input data\n",
    "x_train_enc,x_test_enc,x_unclassified_enc=rf.make_encodings(x_train, x_test, x_unclassified)\n",
    "\n",
    "# build and train the classifier\n",
    "rf.build_classier(x_train_enc,x_test_enc,x_unclassified_enc,y_train,y_test)\n",
    "\n",
    "# classify an example light curve\n",
    "rf.classify(original_curves,filename='2018evo')"
   ]
  }
 ],
 "metadata": {
  "kernelspec": {
   "display_name": "Python 3.9.10 64-bit",
   "language": "python",
   "name": "python3"
  },
  "language_info": {
   "codemirror_mode": {
    "name": "ipython",
    "version": 3
   },
   "file_extension": ".py",
   "mimetype": "text/x-python",
   "name": "python",
   "nbconvert_exporter": "python",
   "pygments_lexer": "ipython3",
   "version": "3.9.10"
  },
  "orig_nbformat": 4,
  "vscode": {
   "interpreter": {
    "hash": "ae9b42876be7716e48a57f9874312e4d7d4ba3c63552faac6e21c37780863ecd"
   }
  }
 },
 "nbformat": 4,
 "nbformat_minor": 2
}
